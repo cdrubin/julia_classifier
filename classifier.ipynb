{
 "cells": [
  {
   "cell_type": "markdown",
   "metadata": {},
   "source": [
    "# Classifier\n",
    "\n",
    "1. Define some test data"
   ]
  },
  {
   "cell_type": "code",
   "execution_count": 14,
   "metadata": {},
   "outputs": [
    {
     "data": {
      "text/plain": [
       "13×12 Array{Any,2}:\n",
       " \"Datum\"  \"Alt\"  \"Bar\"  \"Fri\"  \"Hun\"  …  \"Type\"     \"Est\"    \"WillWait\"\n",
       " \"X1\"     \"T\"    \"F\"    \"F\"    \"T\"       \"French\"   \"0-10\"   \"T\"       \n",
       " \"X2\"     \"T\"    \"F\"    \"F\"    \"T\"       \"Thai\"     \"30-60\"  \"F\"       \n",
       " \"X3\"     \"F\"    \"T\"    \"F\"    \"F\"       \"Burger\"   \"0-10\"   \"T\"       \n",
       " \"X4\"     \"T\"    \"F\"    \"T\"    \"T\"       \"Thai\"     \"10-30\"  \"T\"       \n",
       " \"X5\"     \"T\"    \"F\"    \"T\"    \"F\"    …  \"French\"   \">60\"    \"F\"       \n",
       " \"X6\"     \"F\"    \"T\"    \"F\"    \"T\"       \"Italian\"  \"0-10\"   \"T\"       \n",
       " \"X7\"     \"F\"    \"T\"    \"F\"    \"F\"       \"Burger\"   \"0-10\"   \"F\"       \n",
       " \"X8\"     \"F\"    \"F\"    \"F\"    \"T\"       \"Thai\"     \"0-10\"   \"T\"       \n",
       " \"X9\"     \"F\"    \"T\"    \"T\"    \"F\"       \"Burger\"   \">60\"    \"F\"       \n",
       " \"X10\"    \"T\"    \"T\"    \"T\"    \"T\"    …  \"Italian\"  \"10-30\"  \"F\"       \n",
       " \"X11\"    \"F\"    \"F\"    \"F\"    \"F\"       \"Thai\"     \"0-10\"   \"F\"       \n",
       " \"X12\"    \"T\"    \"T\"    \"T\"    \"T\"       \"Burger\"   \"30-60\"  \"T\"       "
      ]
     },
     "execution_count": 14,
     "metadata": {},
     "output_type": "execute_result"
    }
   ],
   "source": [
    "# #Pkg.add(\"CSV\")\n",
    "\n",
    "training_data = readcsv( \"training_data.csv\" )"
   ]
  },
  {
   "cell_type": "code",
   "execution_count": 15,
   "metadata": {},
   "outputs": [],
   "source": [
    "\n",
    "# #Pkg.add(\"Plots\")\n",
    "# using Plots\n",
    "# gr()\n"
   ]
  },
  {
   "cell_type": "markdown",
   "metadata": {},
   "source": [
    "### plot here"
   ]
  },
  {
   "cell_type": "code",
   "execution_count": 16,
   "metadata": {},
   "outputs": [
    {
     "name": "stdout",
     "output_type": "stream",
     "text": [
      "search: \u001b[1mr\u001b[22m\u001b[1me\u001b[22m\u001b[1ma\u001b[22m\u001b[1md\u001b[22m\u001b[1mc\u001b[22m\u001b[1ms\u001b[22m\u001b[1mv\u001b[22m \u001b[1mr\u001b[22m\u001b[1me\u001b[22m\u001b[1ma\u001b[22m\u001b[1md\u001b[22m\u001b[1mc\u001b[22mhomp @th\u001b[1mr\u001b[22m\u001b[1me\u001b[22m\u001b[1ma\u001b[22m\u001b[1md\u001b[22m\u001b[1mc\u001b[22mall\n",
      "\n"
     ]
    },
    {
     "data": {
      "text/markdown": [
       "```\n",
       "readcsv(source, [T::Type]; options...)\n",
       "```\n",
       "\n",
       "Equivalent to [`readdlm`](@ref) with `delim` set to comma, and type optionally defined by `T`.\n"
      ],
      "text/plain": [
       "```\n",
       "readcsv(source, [T::Type]; options...)\n",
       "```\n",
       "\n",
       "Equivalent to [`readdlm`](@ref) with `delim` set to comma, and type optionally defined by `T`.\n"
      ]
     },
     "execution_count": 16,
     "metadata": {},
     "output_type": "execute_result"
    }
   ],
   "source": [
    "?readcsv"
   ]
  },
  {
   "cell_type": "code",
   "execution_count": null,
   "metadata": {},
   "outputs": [],
   "source": []
  }
 ],
 "metadata": {
  "kernelspec": {
   "display_name": "Julia 0.6.0",
   "language": "julia",
   "name": "julia-0.6"
  },
  "language_info": {
   "file_extension": ".jl",
   "mimetype": "application/julia",
   "name": "julia",
   "version": "0.6.0"
  }
 },
 "nbformat": 4,
 "nbformat_minor": 2
}
