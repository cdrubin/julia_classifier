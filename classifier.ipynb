{
 "cells": [
  {
   "cell_type": "markdown",
   "metadata": {},
   "source": [
    "# Classifier\n",
    "\n",
    "1. Define some test data\n",
    "\n",
    "Entropy for our system is defined as $ x^2 $\n",
    "\n",
    "Our goal is to choose nodes in such a way as to "
   ]
  },
  {
   "cell_type": "markdown",
   "metadata": {},
   "source": [
    "### How to calculate [entropy](https://bricaud.github.io/personal-blog/entropy-in-decision-trees/)\n",
    "\n",
    "To help establish how much disorder there is the data we calculate entropy. \n",
    "\n",
    "First let us establish the naive probability of an attribute that divides the data into two labels $n,m$:\n",
    "\n",
    "\n",
    "$$ p(n) = 1 - p(m) $$\n",
    "\n",
    "since the sum of the probability of n and m equals $ 1 $. Let us say $ p = p(n) = \\frac{|n|}{|n|+|m|} $ and $ q = p(m) = \\frac{|m|}{|n|+|m|} $ we define their entropy as:\n",
    "\n",
    "$$ H[m,n] = - p \\log(p) - q \\log(q) $$\n",
    "\n",
    "Which generalizes for an attribute that divides data into $ \\Pi $ labels:\n",
    "\n",
    "$$ H[\\Pi] = - \\sum \\Pi \\log(\\Pi) $$"
   ]
  },
  {
   "cell_type": "markdown",
   "metadata": {},
   "source": [
    "### How to pick nodes\n",
    " - A chosen attribute $A$, with $K$ distinct values divides the training set $E$ into subsets $E_1,...E_K$.\n",
    " - The __Expected Entropy__ (__EH__) remaining after trying attribute $A$ (with branches $i=1,2,...,K$ is:\n",
    " \n",
    " $$ EH(A) = \\sum_{i=1}^{K} \\frac{p_i + n_i}{p + n} \\cdot H \\left( \\frac{p_i}{p_i + n_i},\\frac{n_i}{p_i+n_i} \\right) $$"
   ]
  },
  {
   "cell_type": "code",
   "execution_count": 14,
   "metadata": {},
   "outputs": [
    {
     "data": {
      "text/plain": [
       "13×12 Array{Any,2}:\n",
       " \"Datum\"  \"Alt\"  \"Bar\"  \"Fri\"  \"Hun\"  …  \"Type\"     \"Est\"    \"WillWait\"\n",
       " \"X1\"     \"T\"    \"F\"    \"F\"    \"T\"       \"French\"   \"0-10\"   \"T\"       \n",
       " \"X2\"     \"T\"    \"F\"    \"F\"    \"T\"       \"Thai\"     \"30-60\"  \"F\"       \n",
       " \"X3\"     \"F\"    \"T\"    \"F\"    \"F\"       \"Burger\"   \"0-10\"   \"T\"       \n",
       " \"X4\"     \"T\"    \"F\"    \"T\"    \"T\"       \"Thai\"     \"10-30\"  \"T\"       \n",
       " \"X5\"     \"T\"    \"F\"    \"T\"    \"F\"    …  \"French\"   \">60\"    \"F\"       \n",
       " \"X6\"     \"F\"    \"T\"    \"F\"    \"T\"       \"Italian\"  \"0-10\"   \"T\"       \n",
       " \"X7\"     \"F\"    \"T\"    \"F\"    \"F\"       \"Burger\"   \"0-10\"   \"F\"       \n",
       " \"X8\"     \"F\"    \"F\"    \"F\"    \"T\"       \"Thai\"     \"0-10\"   \"T\"       \n",
       " \"X9\"     \"F\"    \"T\"    \"T\"    \"F\"       \"Burger\"   \">60\"    \"F\"       \n",
       " \"X10\"    \"T\"    \"T\"    \"T\"    \"T\"    …  \"Italian\"  \"10-30\"  \"F\"       \n",
       " \"X11\"    \"F\"    \"F\"    \"F\"    \"F\"       \"Thai\"     \"0-10\"   \"F\"       \n",
       " \"X12\"    \"T\"    \"T\"    \"T\"    \"T\"       \"Burger\"   \"30-60\"  \"T\"       "
      ]
     },
     "execution_count": 14,
     "metadata": {},
     "output_type": "execute_result"
    }
   ],
   "source": [
    "# #Pkg.add(\"CSV\")\n",
    "\n",
    "training_data = readcsv( \"training_data.csv\" )"
   ]
  },
  {
   "cell_type": "code",
   "execution_count": 15,
   "metadata": {},
   "outputs": [],
   "source": [
    "\n",
    "# #Pkg.add(\"Plots\")\n",
    "# using Plots\n",
    "# gr()\n"
   ]
  },
  {
   "cell_type": "markdown",
   "metadata": {},
   "source": [
    "### plot here"
   ]
  }
 ],
 "metadata": {
  "kernelspec": {
   "display_name": "Julia 0.6.0",
   "language": "julia",
   "name": "julia-0.6"
  },
  "language_info": {
   "file_extension": ".jl",
   "mimetype": "application/julia",
   "name": "julia",
   "version": "0.6.0"
  }
 },
 "nbformat": 4,
 "nbformat_minor": 2
}
