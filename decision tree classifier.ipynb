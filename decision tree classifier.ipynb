{
 "cells": [
  {
   "cell_type": "markdown",
   "metadata": {},
   "source": [
    "# The building blocks of a Decision Tree classifier"
   ]
  },
  {
   "cell_type": "markdown",
   "metadata": {},
   "source": [
    "### How to calculate [entropy](https://bricaud.github.io/personal-blog/entropy-in-decision-trees/)\n",
    "\n",
    "To help establish how much disorder there is the data we calculate entropy. \n",
    "\n",
    "First let us establish the naive probability of an attribute that divides the data into two labels $n,m$:\n",
    "\n",
    "\n",
    "$$ p(n) = 1 - p(m) $$\n",
    "\n",
    "since the sum of the probability of n and m equals $ 1 $. Let us say $ q = p(n) = \\frac{|n|}{|n|+|m|} $ and $ r = p(m) = \\frac{|m|}{|n|+|m|} $ we define their entropy as:\n",
    "\n",
    "$$ H(m,n) = - q \\log(q) - r \\log(r) $$\n",
    "\n",
    "Which generalizes for an attribute that divides data into $ K $ labels:\n",
    "\n",
    "$$ H = - \\sum_{i=1}^K p_i \\log(p_i) $$\n",
    "\n",
    "where $$ p_i = \\frac{| \\space \\text{labelled } K_i \\space |}{| \\space \\text{all labels} \\space |} $$  "
   ]
  },
  {
   "cell_type": "markdown",
   "metadata": {},
   "source": [
    "-----\n",
    "#### Example\n",
    "\n",
    "\n",
    "For the restaurant data visible below:\n",
    "\n",
    "There are two labels for WillWait - True or False. When evaluating the entropy for an attribute like Patrons which can have one of three values \"None\", \"Some\" and \"Full\" :\n",
    "\n",
    " 1. ** Patrons = \"None\" **\n",
    " \"If there are \"No\" Patrons then $ WillWait $ is always False\" gives us $$ $$\n",
    " \n",
    " \n",
    " $$ H \\left( \\frac{0}{2}, \\frac{2}{2} \\right) $$\n",
    " \n",
    " 2. Patrons = \"Some\"\n",
    " \n",
    " 3. Patrons = \"Full\"\n",
    " \n",
    " \n",
    " \"If there are \"No\" Patrons then $ WillWait $ is always False\" gives:\n",
    " $$ H\\left( \\frac{0}{2}, \\frac{2}{2} \\right) $$\n",
    " $$ = |$$ \n",
    " \n",
    "\n",
    "The probability that $ WillWait = True $ is:\n",
    "\n",
    "\n",
    "\n",
    "\n",
    "-----"
   ]
  },
  {
   "cell_type": "markdown",
   "metadata": {},
   "source": [
    "### How to pick nodes\n",
    " - A chosen attribute $A$, with $K$ distinct values divides the training set $E$ into subsets $E_1,...E_K$.\n",
    " - The __Expected Entropy__ (__EH__) remaining after trying attribute $A$ (with branches $i=1,2,...,K$ is:\n",
    " \n",
    " $$ EH(A) = \\sum_{i=1}^{K} \\frac{p_i + n_i}{p + n} \\cdot H \\left( \\frac{p_i}{p_i + n_i},\\frac{n_i}{p_i+n_i} \\right) $$\n",
    " - Where $ p_i $ are the number of datums that do descend along branch $ i $, while $ n_i $ are the number that do not. \n",
    " \n",
    " - The __Information Gain__ (__I__) or reduction in entopy for this attribute is:\n",
    " \n",
    " $$ I(A) = H \\left( \\frac{p}{p+n},\\frac{n}{p+n} \\right) - EH(A) $$\n",
    " \n",
    " - Choose the attribute with the highest I.\n",
    " \n",
    " <mark>TODO: Understand what the p and q (without subscripts) represent above. Also, watch the Google video on creating a classifier now!</mark>"
   ]
  },
  {
   "cell_type": "code",
   "execution_count": 3,
   "metadata": {},
   "outputs": [
    {
     "data": {
      "text/plain": [
       "5"
      ]
     },
     "execution_count": 3,
     "metadata": {},
     "output_type": "execute_result"
    }
   ],
   "source": [
    "using NBInclude\n",
    "nbinclude( \"library.ipynb\" )\n",
    "#include( \"HTMLElements.jl\" )\n",
    "\n",
    "f( 2, 3 )"
   ]
  },
  {
   "cell_type": "code",
   "execution_count": 4,
   "metadata": {
    "scrolled": false
   },
   "outputs": [
    {
     "data": {
      "text/html": [
       "<h2 style='padding: 10px'>Training Data</h2><table class='table table-striped'><thead><tr><th>Datum</th><th>Alt</th><th>Bar</th><th>Fri</th><th>Hun</th><th>Patrons</th><th>Price</th><th>Rain</th><th>Res</th><th>Type</th><th>Est</th><th>WillWait</th></tr></thead><tbody><tr><td>X1</td><td>T</td><td>F</td><td>F</td><td>T</td><td>Some</td><td>$$$</td><td>F</td><td>T</td><td>French</td><td>0-10</td><td>T</td></tr><tr><td>X2</td><td>T</td><td>F</td><td>F</td><td>T</td><td>Full</td><td>$</td><td>F</td><td>F</td><td>Thai</td><td>30-60</td><td>F</td></tr><tr><td>X3</td><td>F</td><td>T</td><td>F</td><td>F</td><td>Some</td><td>$</td><td>F</td><td>F</td><td>Burger</td><td>0-10</td><td>T</td></tr><tr><td>X4</td><td>T</td><td>F</td><td>T</td><td>T</td><td>Full</td><td>$</td><td>F</td><td>F</td><td>Thai</td><td>10-30</td><td>T</td></tr><tr><td>X5</td><td>T</td><td>F</td><td>T</td><td>F</td><td>Full</td><td>$$$</td><td>F</td><td>T</td><td>French</td><td>>60</td><td>F</td></tr><tr><td>X6</td><td>F</td><td>T</td><td>F</td><td>T</td><td>Some</td><td>$$</td><td>F</td><td>T</td><td>Italian</td><td>0-10</td><td>T</td></tr><tr><td>X7</td><td>F</td><td>T</td><td>F</td><td>F</td><td>None</td><td>$</td><td>T</td><td>F</td><td>Burger</td><td>0-10</td><td>F</td></tr><tr><td>X8</td><td>F</td><td>F</td><td>F</td><td>T</td><td>Some</td><td>$$</td><td>T</td><td>T</td><td>Thai</td><td>0-10</td><td>T</td></tr><tr><td>X9</td><td>F</td><td>T</td><td>T</td><td>F</td><td>Full</td><td>$</td><td>T</td><td>F</td><td>Burger</td><td>>60</td><td>F</td></tr><tr><td>X10</td><td>T</td><td>T</td><td>T</td><td>T</td><td>Full</td><td>$$$</td><td>F</td><td>T</td><td>Italian</td><td>10-30</td><td>F</td></tr><tr><td>X11</td><td>F</td><td>F</td><td>F</td><td>F</td><td>None</td><td>$</td><td>F</td><td>F</td><td>Thai</td><td>0-10</td><td>F</td></tr><tr><td>X12</td><td>T</td><td>T</td><td>T</td><td>T</td><td>Full</td><td>$</td><td>F</td><td>F</td><td>Burger</td><td>30-60</td><td>T</td></tr></tbody></table>"
      ],
      "text/plain": [
       "HTML{String}(\"<h2 style='padding: 10px'>Training Data</h2><table class='table table-striped'><thead><tr><th>Datum</th><th>Alt</th><th>Bar</th><th>Fri</th><th>Hun</th><th>Patrons</th><th>Price</th><th>Rain</th><th>Res</th><th>Type</th><th>Est</th><th>WillWait</th></tr></thead><tbody><tr><td>X1</td><td>T</td><td>F</td><td>F</td><td>T</td><td>Some</td><td>\\$\\$\\$</td><td>F</td><td>T</td><td>French</td><td>0-10</td><td>T</td></tr><tr><td>X2</td><td>T</td><td>F</td><td>F</td><td>T</td><td>Full</td><td>\\$</td><td>F</td><td>F</td><td>Thai</td><td>30-60</td><td>F</td></tr><tr><td>X3</td><td>F</td><td>T</td><td>F</td><td>F</td><td>Some</td><td>\\$</td><td>F</td><td>F</td><td>Burger</td><td>0-10</td><td>T</td></tr><tr><td>X4</td><td>T</td><td>F</td><td>T</td><td>T</td><td>Full</td><td>\\$</td><td>F</td><td>F</td><td>Thai</td><td>10-30</td><td>T</td></tr><tr><td>X5</td><td>T</td><td>F</td><td>T</td><td>F</td><td>Full</td><td>\\$\\$\\$</td><td>F</td><td>T</td><td>French</td><td>>60</td><td>F</td></tr><tr><td>X6</td><td>F</td><td>T</td><td>F</td><td>T</td><td>Some</td><td>\\$\\$</td><td>F</td><td>T</td><td>Italian</td><td>0-10</td><td>T</td></tr><tr><td>X7</td><td>F</td><td>T</td><td>F</td><td>F</td><td>None</td><td>\\$</td><td>T</td><td>F</td><td>Burger</td><td>0-10</td><td>F</td></tr><tr><td>X8</td><td>F</td><td>F</td><td>F</td><td>T</td><td>Some</td><td>\\$\\$</td><td>T</td><td>T</td><td>Thai</td><td>0-10</td><td>T</td></tr><tr><td>X9</td><td>F</td><td>T</td><td>T</td><td>F</td><td>Full</td><td>\\$</td><td>T</td><td>F</td><td>Burger</td><td>>60</td><td>F</td></tr><tr><td>X10</td><td>T</td><td>T</td><td>T</td><td>T</td><td>Full</td><td>\\$\\$\\$</td><td>F</td><td>T</td><td>Italian</td><td>10-30</td><td>F</td></tr><tr><td>X11</td><td>F</td><td>F</td><td>F</td><td>F</td><td>None</td><td>\\$</td><td>F</td><td>F</td><td>Thai</td><td>0-10</td><td>F</td></tr><tr><td>X12</td><td>T</td><td>T</td><td>T</td><td>T</td><td>Full</td><td>\\$</td><td>F</td><td>F</td><td>Burger</td><td>30-60</td><td>T</td></tr></tbody></table>\")"
      ]
     },
     "execution_count": 4,
     "metadata": {},
     "output_type": "execute_result"
    }
   ],
   "source": [
    "# #Pkg.add(\"CSV\")\n",
    "\n",
    "# show more than 80 characters in a row\n",
    "# ENV[\"COLUMNS\"] = 120 # not needed now we have html_table to format data\n",
    "training_data = readcsv( \"training_data.csv\" )\n",
    "\n",
    "headers = training_data[1, :]\n",
    "html_table( training_data[2:end, :], header_row=headers, title=\"Training Data\" )\n"
   ]
  },
  {
   "cell_type": "markdown",
   "metadata": {},
   "source": [
    "For the above data I seek to find the attribute that best splits the data into \"WillWait\" or not. \n",
    "\n",
    "For a training set like this with positive and negative examples we can use the following:\n",
    "\n",
    "$$ H \\left( \\frac{p}{p+n}, \\frac{n}{p+n} \\right) = - \\frac{p}{p+n} log_2 \\frac{p}{p+n} - \\frac{p}{p+n} log_2 \\frac{p}{p+n} $$"
   ]
  },
  {
   "cell_type": "markdown",
   "metadata": {},
   "source": [
    "For this training set, lets consider how _good_ the attributes \"Patron\" and \"Type\" are at splitting the \"WillWait\" values:\n",
    "\n",
    "For the training set $ p = n = 6 $ (there are six negative \"WillWait\" values and six positive) = 1 bit\n",
    "\n",
    "$$ IG(Patrons) = 1 - \\left[ EH(Patrons_{None}) + EH(Patrons_{Some}) + EH(Patrons_{Full}) \\right] $$\n",
    "\n",
    "$$ IG(Patrons) = 1 - \\left[ \\frac{2}{12}H \\left( \\frac{0}{2}, \\frac{2}{2} \\right) + \\frac{4}{12}H \\left( \\frac{4}{4}, \\frac{0}{4} \\right) + \\frac{6}{12}H\\left( \\frac{2}{6}, \\frac{4}{6} \\right) \\right] = 0.0541 bits $$"
   ]
  },
  {
   "cell_type": "code",
   "execution_count": 5,
   "metadata": {},
   "outputs": [],
   "source": [
    "# allow user to enter attribute and calcular Information Gain (IG) for it\n",
    "\n",
    "#test_attribute = IJulia.readprompt( \"Test attribute\" )\n",
    "#IJulia.clear_output()\n",
    "#show( test_attribute )"
   ]
  },
  {
   "cell_type": "code",
   "execution_count": null,
   "metadata": {},
   "outputs": [],
   "source": []
  }
 ],
 "metadata": {
  "kernelspec": {
   "display_name": "Julia 0.6.2",
   "language": "julia",
   "name": "julia-0.6"
  },
  "language_info": {
   "file_extension": ".jl",
   "mimetype": "application/julia",
   "name": "julia",
   "version": "0.6.2"
  }
 },
 "nbformat": 4,
 "nbformat_minor": 2
}
