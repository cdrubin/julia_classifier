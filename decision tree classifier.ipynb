{
 "cells": [
  {
   "cell_type": "markdown",
   "metadata": {},
   "source": [
    "# The building blocks of a ***Decision Tree Classifier***"
   ]
  },
  {
   "cell_type": "markdown",
   "metadata": {},
   "source": [
    "##### (building discussion around $ WillWait $ example, section 18.3.1 of Artificial Intelligence - A Modern Approach 3rd edition)"
   ]
  },
  {
   "cell_type": "code",
   "execution_count": 5,
   "metadata": {},
   "outputs": [],
   "source": [
    "using NBInclude                                             # allow code includes to take the form of a notebook\n",
    "nbinclude( \"library.ipynb\" );                               # include convenience library functions"
   ]
  },
  {
   "cell_type": "markdown",
   "metadata": {},
   "source": [
    "---\n",
    "## Table of Contents\n",
    "\n",
    " 1. [Set the stage](#Set-the-stage)\n",
    " 2. [Introducing the Mathematics](#Introducing-the-Mathematics)\n",
    " 3. Calculate some examples\n",
    " "
   ]
  },
  {
   "cell_type": "markdown",
   "metadata": {},
   "source": [
    "---\n",
    "## Set the stage \n",
    "[TOP](#Table-of-Contents)"
   ]
  },
  {
   "cell_type": "markdown",
   "metadata": {},
   "source": [
    "The example behind this discussion is the construction of a device that will tell us, given attributes about the restaurant, whether patrons are likely to wait for a table - $ WillWait $. To read the table of data below we consider each column as a variable that can potentially effect that decision. \n",
    "\n",
    "The variables in our example have the following meanings:\n",
    "\n",
    "$ Alt $ : Is there at least one similar *alternative* restatuant nearby? (values **True**, **False**)<br/>\n",
    "$ Bar $ : Does the restaurant have an inside *bar* area to wait in? (values **True**, **False**)<br />\n",
    "$ Fri $ (Friday or Saturday) : Is it a *Friday* or Saturday? (values **True**, **False**)<br />\n",
    "$ Hun $ (Hungry): Are the potential patrons *hungry* when making the decision? (values **True**, **False**)<br />\n",
    "$ Patrons $ : How many people are currently in the restaurant? (values **None**, **Some**, **Full**)<br />\n",
    "$ Price $ : How expensive a restaurant is this? (values **\\$**, **\\$\\$**, **\\$\\$\\$**).<br />\n",
    "$ Raining $ : Is it raining outside? (values **True** or **False**) <br />\n",
    "$ Reservation $ : Do the potential patrons have a reservation? (values **True** or **False**)<br />\n",
    "$ Type $: What kind of restaurant is this? (values **French**, **Italian**, **Thai**, **Burger**) <br />\n",
    "$ WaitEstimate $ : What is the estimated wait time in minutes? (values: **0-10**, **10-30**, **30-60**, or **>60**)."
   ]
  },
  {
   "cell_type": "markdown",
   "metadata": {},
   "source": [
    "Considering row $ X_7 $ which represents a single instance of training data (and therefore is not a prediction or rule but simply an example)."
   ]
  },
  {
   "cell_type": "code",
   "execution_count": 2,
   "metadata": {},
   "outputs": [
    {
     "data": {
      "text/html": [
       "<table class='table table-striped'><thead><tr><th>Datum</th><th>Alt</th><th>Bar</th><th>Fri</th><th>Hun</th><th>Patrons</th><th>Price</th><th>Rain</th><th>Res</th><th>Type</th><th>Est</th><th>WillWait</th></tr></thead><tbody><tr><td>X7</td><td>F</td><td>T</td><td>F</td><td>F</td><td>None</td><td>$</td><td>T</td><td>F</td><td>Burger</td><td>0-10</td><td>F</td></tr></tbody></table>"
      ],
      "text/plain": [
       "HTML{String}(\"<table class='table table-striped'><thead><tr><th>Datum</th><th>Alt</th><th>Bar</th><th>Fri</th><th>Hun</th><th>Patrons</th><th>Price</th><th>Rain</th><th>Res</th><th>Type</th><th>Est</th><th>WillWait</th></tr></thead><tbody><tr><td>X7</td><td>F</td><td>T</td><td>F</td><td>F</td><td>None</td><td>\\$</td><td>T</td><td>F</td><td>Burger</td><td>0-10</td><td>F</td></tr></tbody></table>\")"
      ]
     },
     "execution_count": 2,
     "metadata": {},
     "output_type": "execute_result"
    }
   ],
   "source": [
    "training_data = readcsv( \"training_data.csv\" )              # load our training data from local csv file\n",
    "headers = training_data[1, :]                               # first row are the headers\n",
    "html_table( training_data[8:8, :], header_row=headers )     # display row 8"
   ]
  },
  {
   "cell_type": "markdown",
   "metadata": {},
   "source": [
    "We can read this as: \n",
    "\n",
    "> for a restaurant with no similar alternatives nearby      ($ Alt $ = **False**)<br />\n",
    "> that does have an internal bar waiting area               ($ Bar $ = **True**)<br />\n",
    "> on a Friday or Saturday                                   ($ Fri $ = **True**)<br />\n",
    "> for hungry potential patrons                              ($ Hun $ = **True**)<br />\n",
    "> that contains no patrons presently                        ($ Patrons $ = **None**)<br />\n",
    "> that is only \\$ expensive                                 ($ Price $ = **\\$**)<br />\n",
    "> when it is raining                                        ($ Rain $ = **True**)<br />\n",
    "> when the potential patrons have no reservation            ($ Res $ = **False**)<br />\n",
    "> the restaurant is a burger joint                          ($ Type $ = **Burger**)<br />\n",
    "> and the estimated wait is 10 minutes or less              ($ Est $ = **0-10**)<br />\n",
    "> <br />\n",
    "> **The potential patrons did not wait**"
   ]
  },
  {
   "cell_type": "markdown",
   "metadata": {},
   "source": [
    "From Russell and Norwig\n",
    "> The DECISION-TREE-LEARNING algorithm adopts a greedy divide-and-conquer\n",
    "> strategy: always test the most important attribute first. This test divides the problem up into\n",
    "> smaller subproblems that can then be solved recursively. By \"most important attribute,\" we\n",
    "> mean the one that makes the most difference to the classification of an example."
   ]
  },
  {
   "cell_type": "markdown",
   "metadata": {},
   "source": [
    "Finding the most important attribute needs a mathematical definition that we can calculate. The intuition behind our choice is something like \"the attribute that helps divide the data most effectively\". By dividing data we mean exactly that - for our example we want to ultimately divide the data into instances that results in $ WillWait $ being **True** or **False**. The more categorically an attribute divides input the more \"important\" that attribute is. \n"
   ]
  },
  {
   "cell_type": "markdown",
   "metadata": {},
   "source": [
    "As one might expect in the world: the attribute $ Patron $ turns out to be a fairly good at helping us determining if potential patrons $ WillWait $. Essentially, for the training data, if there are no patrons $ WillWait $ is **False**, if there are some patrons then $ WillWait $ is **True**. And if the restaurant is already **Full** of $ Patrons $ we need to consider other attributes to determine whether potential patrons will wait or not.  \n",
    "\n",
    "In contrast, the attribute $ Type $ does not help categorize (or segment or partition) our data. Even in our small number of training data rows a potential patron's choice of restaurant does not seem to impact $ WillWait $ reliably.\n",
    "\n",
    "We now seek to formalize a method for determining how important an attribute is. The formal way we do this is by examining how well that attribute does at reducing the disorder or *entropy* of the system."
   ]
  },
  {
   "cell_type": "markdown",
   "metadata": {},
   "source": [
    "---\n",
    "## Introducing the Mathematics\n",
    "[TOP](#Table-of-Contents)"
   ]
  },
  {
   "cell_type": "markdown",
   "metadata": {},
   "source": [
    "#### How to calculate *entropy*\n",
    "##### (adapted from (https://bricaud.github.io/personal-blog/entropy-in-decision-trees/)\n",
    "\n",
    "To help establish how much disorder there is the data we calculate entropy. \n",
    "\n",
    "First let us establish the naive probability of an attribute that divides the data into two labels $n,m$:\n",
    "\n",
    "\n",
    "$$ p(n) = 1 - p(m) $$\n",
    "\n",
    "since the sum of the probability of n and m equals $ 1 $. Let us say $ q = p(n) = \\frac{|n|}{|n|+|m|} $ and $ r = p(m) = \\frac{|m|}{|n|+|m|} $ we define their entropy as:\n",
    "\n",
    "$$ H(m,n) = - q \\log(q) - r \\log(r) $$\n",
    "\n",
    "Which generalizes for an attribute that divides data into $ K $ labels:\n",
    "\n",
    "$$ H = - \\sum_{i=1}^K p_i \\log(p_i) $$\n",
    "\n",
    "where $$ p_i = \\frac{| \\space \\text{labelled } K_i \\space |}{| \\space \\text{all labels} \\space |} $$  "
   ]
  },
  {
   "cell_type": "markdown",
   "metadata": {},
   "source": [
    "##### (sourced from section 18.3.4 of Artificial Intelligence - A Modern Approach 3rd edition\n",
    "\n",
    "\n",
    "In general the entropy for a random variable $ V $ with values $ v_k $ each with a probability $ P(v_k) $, is defined as:\n",
    "\n",
    "$$ H(V) = \\sum_k P(v_k) log_2 \\frac{1}{P(v_k)} = - \\sum_k P(v_k) log_2 P(v_k) $$\n",
    "\n",
    "When considering a boolean entropy (a boolean random variable that is true with probability $ q $ we have:\n",
    "\n",
    "$$ B(q) = - (qlog_2 q) + (1-q)log_2(1-q)) $$\n",
    "\n",
    "If a training set contains $ p $ positive exampes and $ n $ negative examples, then the entropy of the $ Goal $ attribute on the whole set: \n",
    "\n",
    "$$ H(Goal) = B\\left(\\frac{p}{p+n} \\right) $$\n"
   ]
  },
  {
   "cell_type": "markdown",
   "metadata": {},
   "source": [
    "For our restaurant example we have 6 positive examples and 6 negative examples"
   ]
  },
  {
   "cell_type": "code",
   "execution_count": null,
   "metadata": {},
   "outputs": [],
   "source": [
    "function H( )"
   ]
  },
  {
   "cell_type": "markdown",
   "metadata": {},
   "source": [
    "-----\n",
    "#### Example\n",
    "\n",
    "\n",
    "For the restaurant data visible below:\n",
    "\n",
    "There are two labels for WillWait - True or False. When evaluating the entropy for an attribute like $ Patrons $ which can have one of three values **None**, **Some** and **Full** :\n",
    "\n",
    " 1. $ Patrons $ = **None** <br \\>\n",
    " \"If there are \"No\" Patrons then $ WillWait $ is always False\" gives us $$ $$\n",
    " \n",
    " \n",
    " $$ H \\left( \\frac{0}{2}, \\frac{2}{2} \\right) $$\n",
    " \n",
    " 2. Patrons = \"Some\"\n",
    " \n",
    " 3. Patrons = \"Full\"\n",
    " \n",
    " \n",
    " \"If there are \"No\" Patrons then $ WillWait $ is always False\" gives:\n",
    " $$ H\\left( \\frac{0}{2}, \\frac{2}{2} \\right) $$\n",
    " $$ = |$$ \n",
    " \n",
    "\n",
    "The probability that $ WillWait = True $ is:\n",
    "\n",
    "\n",
    "\n",
    "\n",
    "-----"
   ]
  },
  {
   "cell_type": "markdown",
   "metadata": {},
   "source": [
    "### How to pick nodes\n",
    " - A chosen attribute $A$, with $K$ distinct values divides the training set $E$ into subsets $E_1,...E_K$.\n",
    " - The __Expected Entropy__ (__EH__) remaining after trying attribute $A$ (with branches $i=1,2,...,K$ is:\n",
    " \n",
    " $$ EH(A) = \\sum_{i=1}^{K} \\frac{p_i + n_i}{p + n} \\cdot H \\left( \\frac{p_i}{p_i + n_i},\\frac{n_i}{p_i+n_i} \\right) $$\n",
    " - Where $ p_i $ are the number of datums that do descend along branch $ i $, while $ n_i $ are the number that do not. \n",
    " \n",
    " - The __Information Gain__ (__I__) or reduction in entopy for this attribute is:\n",
    " \n",
    " $$ I(A) = H \\left( \\frac{p}{p+n},\\frac{n}{p+n} \\right) - EH(A) $$\n",
    " \n",
    " - Choose the attribute with the highest I.\n",
    " \n",
    " <mark>TODO: Understand what the p and q (without subscripts) represent above. Also, watch the Google video on creating a classifier now!</mark>"
   ]
  },
  {
   "cell_type": "code",
   "execution_count": 3,
   "metadata": {
    "scrolled": false
   },
   "outputs": [
    {
     "data": {
      "text/html": [
       "<h2 style='padding: 10px'>Training Data</h2><table class='table table-striped'><thead><tr><th>Datum</th><th>Alt</th><th>Bar</th><th>Fri</th><th>Hun</th><th>Patrons</th><th>Price</th><th>Rain</th><th>Res</th><th>Type</th><th>Est</th><th>WillWait</th></tr></thead><tbody><tr><td>X1</td><td>T</td><td>F</td><td>F</td><td>T</td><td>Some</td><td>$$$</td><td>F</td><td>T</td><td>French</td><td>0-10</td><td>T</td></tr><tr><td>X2</td><td>T</td><td>F</td><td>F</td><td>T</td><td>Full</td><td>$</td><td>F</td><td>F</td><td>Thai</td><td>30-60</td><td>F</td></tr><tr><td>X3</td><td>F</td><td>T</td><td>F</td><td>F</td><td>Some</td><td>$</td><td>F</td><td>F</td><td>Burger</td><td>0-10</td><td>T</td></tr><tr><td>X4</td><td>T</td><td>F</td><td>T</td><td>T</td><td>Full</td><td>$</td><td>F</td><td>F</td><td>Thai</td><td>10-30</td><td>T</td></tr><tr><td>X5</td><td>T</td><td>F</td><td>T</td><td>F</td><td>Full</td><td>$$$</td><td>F</td><td>T</td><td>French</td><td>>60</td><td>F</td></tr><tr><td>X6</td><td>F</td><td>T</td><td>F</td><td>T</td><td>Some</td><td>$$</td><td>F</td><td>T</td><td>Italian</td><td>0-10</td><td>T</td></tr><tr><td>X7</td><td>F</td><td>T</td><td>F</td><td>F</td><td>None</td><td>$</td><td>T</td><td>F</td><td>Burger</td><td>0-10</td><td>F</td></tr><tr><td>X8</td><td>F</td><td>F</td><td>F</td><td>T</td><td>Some</td><td>$$</td><td>T</td><td>T</td><td>Thai</td><td>0-10</td><td>T</td></tr><tr><td>X9</td><td>F</td><td>T</td><td>T</td><td>F</td><td>Full</td><td>$</td><td>T</td><td>F</td><td>Burger</td><td>>60</td><td>F</td></tr><tr><td>X10</td><td>T</td><td>T</td><td>T</td><td>T</td><td>Full</td><td>$$$</td><td>F</td><td>T</td><td>Italian</td><td>10-30</td><td>F</td></tr><tr><td>X11</td><td>F</td><td>F</td><td>F</td><td>F</td><td>None</td><td>$</td><td>F</td><td>F</td><td>Thai</td><td>0-10</td><td>F</td></tr><tr><td>X12</td><td>T</td><td>T</td><td>T</td><td>T</td><td>Full</td><td>$</td><td>F</td><td>F</td><td>Burger</td><td>30-60</td><td>T</td></tr></tbody></table>"
      ],
      "text/plain": [
       "HTML{String}(\"<h2 style='padding: 10px'>Training Data</h2><table class='table table-striped'><thead><tr><th>Datum</th><th>Alt</th><th>Bar</th><th>Fri</th><th>Hun</th><th>Patrons</th><th>Price</th><th>Rain</th><th>Res</th><th>Type</th><th>Est</th><th>WillWait</th></tr></thead><tbody><tr><td>X1</td><td>T</td><td>F</td><td>F</td><td>T</td><td>Some</td><td>\\$\\$\\$</td><td>F</td><td>T</td><td>French</td><td>0-10</td><td>T</td></tr><tr><td>X2</td><td>T</td><td>F</td><td>F</td><td>T</td><td>Full</td><td>\\$</td><td>F</td><td>F</td><td>Thai</td><td>30-60</td><td>F</td></tr><tr><td>X3</td><td>F</td><td>T</td><td>F</td><td>F</td><td>Some</td><td>\\$</td><td>F</td><td>F</td><td>Burger</td><td>0-10</td><td>T</td></tr><tr><td>X4</td><td>T</td><td>F</td><td>T</td><td>T</td><td>Full</td><td>\\$</td><td>F</td><td>F</td><td>Thai</td><td>10-30</td><td>T</td></tr><tr><td>X5</td><td>T</td><td>F</td><td>T</td><td>F</td><td>Full</td><td>\\$\\$\\$</td><td>F</td><td>T</td><td>French</td><td>>60</td><td>F</td></tr><tr><td>X6</td><td>F</td><td>T</td><td>F</td><td>T</td><td>Some</td><td>\\$\\$</td><td>F</td><td>T</td><td>Italian</td><td>0-10</td><td>T</td></tr><tr><td>X7</td><td>F</td><td>T</td><td>F</td><td>F</td><td>None</td><td>\\$</td><td>T</td><td>F</td><td>Burger</td><td>0-10</td><td>F</td></tr><tr><td>X8</td><td>F</td><td>F</td><td>F</td><td>T</td><td>Some</td><td>\\$\\$</td><td>T</td><td>T</td><td>Thai</td><td>0-10</td><td>T</td></tr><tr><td>X9</td><td>F</td><td>T</td><td>T</td><td>F</td><td>Full</td><td>\\$</td><td>T</td><td>F</td><td>Burger</td><td>>60</td><td>F</td></tr><tr><td>X10</td><td>T</td><td>T</td><td>T</td><td>T</td><td>Full</td><td>\\$\\$\\$</td><td>F</td><td>T</td><td>Italian</td><td>10-30</td><td>F</td></tr><tr><td>X11</td><td>F</td><td>F</td><td>F</td><td>F</td><td>None</td><td>\\$</td><td>F</td><td>F</td><td>Thai</td><td>0-10</td><td>F</td></tr><tr><td>X12</td><td>T</td><td>T</td><td>T</td><td>T</td><td>Full</td><td>\\$</td><td>F</td><td>F</td><td>Burger</td><td>30-60</td><td>T</td></tr></tbody></table>\")"
      ]
     },
     "execution_count": 3,
     "metadata": {},
     "output_type": "execute_result"
    }
   ],
   "source": [
    "# #Pkg.add(\"CSV\")\n",
    "\n",
    "# show more than 80 characters in a row\n",
    "# ENV[\"COLUMNS\"] = 120 # not needed now we have html_table to format data\n",
    "training_data = readcsv( \"training_data.csv\" )\n",
    "\n",
    "headers = training_data[1, :]\n",
    "html_table( training_data[2:end, :], header_row=headers, title=\"Training Data\" )\n"
   ]
  },
  {
   "cell_type": "markdown",
   "metadata": {},
   "source": [
    "For the above data I seek to find the attribute that best splits the data into \"WillWait\" or not. \n",
    "\n",
    "For a training set like this with positive and negative examples we can use the following:\n",
    "\n",
    "$$ H \\left( \\frac{p}{p+n}, \\frac{n}{p+n} \\right) = - \\frac{p}{p+n} log_2 \\frac{p}{p+n} - \\frac{p}{p+n} log_2 \\frac{p}{p+n} $$"
   ]
  },
  {
   "cell_type": "markdown",
   "metadata": {},
   "source": [
    "For this training set, lets consider how _good_ the attributes \"Patron\" and \"Type\" are at splitting the \"WillWait\" values:\n",
    "\n",
    "For the training set $ p = n = 6 $ (there are six negative \"WillWait\" values and six positive) = 1 bit\n",
    "\n",
    "$$ IG(Patrons) = 1 - \\left[ EH(Patrons_{None}) + EH(Patrons_{Some}) + EH(Patrons_{Full}) \\right] $$\n",
    "\n",
    "$$ IG(Patrons) = 1 - \\left[ \\frac{2}{12}H \\left( \\frac{0}{2}, \\frac{2}{2} \\right) + \\frac{4}{12}H \\left( \\frac{4}{4}, \\frac{0}{4} \\right) + \\frac{6}{12}H\\left( \\frac{2}{6}, \\frac{4}{6} \\right) \\right] = 0.0541 bits $$"
   ]
  },
  {
   "cell_type": "code",
   "execution_count": 4,
   "metadata": {},
   "outputs": [],
   "source": [
    "# allow user to enter attribute and calcular Information Gain (IG) for it\n",
    "\n",
    "#test_attribute = IJulia.readprompt( \"Test attribute\" )\n",
    "#IJulia.clear_output()\n",
    "#show( test_attribute )"
   ]
  },
  {
   "cell_type": "code",
   "execution_count": null,
   "metadata": {},
   "outputs": [],
   "source": []
  }
 ],
 "metadata": {
  "kernelspec": {
   "display_name": "Julia 0.6.2",
   "language": "julia",
   "name": "julia-0.6"
  },
  "language_info": {
   "file_extension": ".jl",
   "mimetype": "application/julia",
   "name": "julia",
   "version": "0.6.2"
  }
 },
 "nbformat": 4,
 "nbformat_minor": 2
}
