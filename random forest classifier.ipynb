{
 "cells": [
  {
   "cell_type": "markdown",
   "metadata": {},
   "source": [
    "### Conventions\n",
    "\n",
    "A generic data point is denoted $ v = ( x_1, x_2, ..., x_d ) $\n",
    "\n",
    "Each node $ S_j $ splits the data into two sets (left and right), with $ S_j = S_j^L \\cup S_j^R $\n",
    "\n",
    "Our goal when building a classifier is to choose ways to split the data that will result in the largest reduction in entropy. One way of thinking of this is straightforward - choose criteria to divide the set in the way that best seperates attributes. This kind of choice corresponds to the largest information $ I $ increase which put another way is the largest decrease in entropy."
   ]
  },
  {
   "cell_type": "markdown",
   "metadata": {},
   "source": [
    "### Ideas\n",
    "\n",
    "Each node in the tree is a classifier. Given an input the possible outcomes are \"Yes\" or \"No\", or \"1\" or \"0\", or \"Left\" or \"Right\"\n",
    "\n",
    "While many classifiers that partition with just greater-than-random success may have a wide variance, taking the average of these results leads to a small variance - this is how the tecnique used by random trees by the Central Limit Theorem leads to reducing that variance.\n",
    "\n",
    "\"During training choose nodes that split the data as much as possible\"."
   ]
  },
  {
   "cell_type": "markdown",
   "metadata": {},
   "source": [
    "### Method\n",
    "\n",
    "1. For $ b = 1 $ to $ B $  :\n",
    "  1. Draw a bootstrap sample $ Z^* $ of size $ N $ from the training data\n",
    "  2. Grow a random-forest tree  $ T_b $ to the bootstrapped data by recursively repeating the following steps for each terminal node \n",
    "  \n",
    "2. "
   ]
  },
  {
   "cell_type": "code",
   "execution_count": null,
   "metadata": {},
   "outputs": [],
   "source": []
  }
 ],
 "metadata": {
  "kernelspec": {
   "display_name": "Julia 0.6.2",
   "language": "julia",
   "name": "julia-0.6"
  },
  "language_info": {
   "file_extension": ".jl",
   "mimetype": "application/julia",
   "name": "julia",
   "version": "0.6.2"
  }
 },
 "nbformat": 4,
 "nbformat_minor": 2
}
