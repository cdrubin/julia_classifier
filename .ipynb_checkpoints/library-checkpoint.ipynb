{
 "cells": [
  {
   "cell_type": "code",
   "execution_count": 2,
   "metadata": {},
   "outputs": [
    {
     "data": {
      "text/plain": [
       "f (generic function with 1 method)"
      ]
     },
     "execution_count": 2,
     "metadata": {},
     "output_type": "execute_result"
    }
   ],
   "source": [
    "f(x,y) = x + y"
   ]
  },
  {
   "cell_type": "code",
   "execution_count": 16,
   "metadata": {},
   "outputs": [
    {
     "data": {
      "text/plain": [
       "html_table (generic function with 1 method)"
      ]
     },
     "execution_count": 16,
     "metadata": {},
     "output_type": "execute_result"
    }
   ],
   "source": [
    "function html_table(cur_matrix::Matrix; header_row=[], title=nothing)\n",
    "\n",
    "cur_table = \"\"\n",
    "\n",
    "if title != nothing\n",
    "  cur_table *= \"<h2 style='padding: 10px'>$title</h2>\"\n",
    "end\n",
    "\n",
    "cur_table *= \"<table class='table table-striped'>\"\n",
    "\n",
    "if !isempty(header_row)\n",
    "  cur_table *= \"<thead><tr>\"\n",
    "\n",
    "  for cur_header in header_row\n",
    "    cur_table *= \"<th>$cur_header</th>\"\n",
    "  end\n",
    "\n",
    "  cur_table *= \"</tr></thead>\"\n",
    "end\n",
    "\n",
    "cur_table *= \"<tbody>\"\n",
    "\n",
    "for ii in 1:size(cur_matrix, 1)\n",
    "\n",
    "  cur_table *= \"<tr>\"\n",
    "\n",
    "  for jj in 1:size(cur_matrix, 2)\n",
    "    cur_element = cur_matrix[ii, jj]\n",
    "\n",
    "    if isa(cur_element, Dict)\n",
    "      cur_table *= \"<td class=\\\"$(cur_element[\"class\"])\\\">\"\n",
    "      cur_value = cur_element[\"value\"]\n",
    "    else\n",
    "      cur_table *= \"<td>\"\n",
    "      cur_value = cur_element\n",
    "    end\n",
    "\n",
    "    cur_table *= string(cur_value)\n",
    "\n",
    "    cur_table *= \"</td>\"\n",
    "  end\n",
    "\n",
    "  cur_table *= \"</tr>\"\n",
    "\n",
    "end\n",
    "\n",
    "cur_table *= \"</tbody>\"\n",
    "\n",
    "cur_table *= \"</table>\"\n",
    "\n",
    "return HTML(cur_table)\n",
    "\n",
    "end\n"
   ]
  },
  {
   "cell_type": "code",
   "execution_count": 1,
   "metadata": {},
   "outputs": [],
   "source": [
    "# html_table( randn(30, 5), header_row=[\"o\" \"p\"], title=\"goo\" )"
   ]
  },
  {
   "cell_type": "code",
   "execution_count": 2,
   "metadata": {},
   "outputs": [
    {
     "data": {
      "text/plain": [
       "expected_entropy (generic function with 1 method)"
      ]
     },
     "execution_count": 2,
     "metadata": {},
     "output_type": "execute_result"
    }
   ],
   "source": [
    "function expected_entropy() \n",
    "    \n",
    "end"
   ]
  }
 ],
 "metadata": {
  "kernelspec": {
   "display_name": "Julia 0.6.2",
   "language": "julia",
   "name": "julia-0.6"
  },
  "language_info": {
   "file_extension": ".jl",
   "mimetype": "application/julia",
   "name": "julia",
   "version": "0.6.2"
  }
 },
 "nbformat": 4,
 "nbformat_minor": 2
}
